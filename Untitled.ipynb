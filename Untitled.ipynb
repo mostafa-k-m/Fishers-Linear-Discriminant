{
 "cells": [
  {
   "cell_type": "code",
   "execution_count": 1,
   "metadata": {},
   "outputs": [],
   "source": [
    "from FisherLD import FisherLD\n",
    "import numpy as np"
   ]
  },
  {
   "cell_type": "code",
   "execution_count": 2,
   "metadata": {},
   "outputs": [
    {
     "name": "stdout",
     "output_type": "stream",
     "text": [
      "[array([-1.86295755, -1.74822919, -1.79542414, -2.70131916, -3.98001003,\n",
      "       -1.75748831, -2.17513035, -2.84717432, -2.21756262, -2.33599019,\n",
      "       -1.56245672, -3.37790866, -3.49448242, -1.83009715, -2.06716261,\n",
      "        0.13893974, -2.71622775, -1.18832632, -1.3220511 , -2.8485801 ,\n",
      "       -3.79589684, -1.28909894, -2.32625861, -2.36307136, -2.70798311,\n",
      "       -1.35861696, -3.09844994, -2.35649732, -0.82774977, -1.14865246,\n",
      "       -1.13506518, -3.51089669, -2.46911694, -2.08374464, -1.1262804 ,\n",
      "       -2.31713469, -1.72002162, -2.55208392, -3.92569011, -2.57383054,\n",
      "       -2.7477133 , -2.74625556, -1.90091973, -3.52260024, -2.71690577,\n",
      "       -1.56821311, -1.47256398, -2.4675349 , -2.44562649, -1.74958744,\n",
      "       -1.28644138, -1.17438631, -3.01875958, -2.71423223, -0.10633485,\n",
      "       -2.46332752, -1.41438856, -2.32316505, -1.07713649, -2.93601866,\n",
      "       -1.71109678, -2.47307359, -3.67996877, -3.4577513 , -1.95105768,\n",
      "       -3.79355931, -2.35756653, -2.51585362, -0.67205588, -3.75613676,\n",
      "       -2.75643183, -2.38761482, -1.6269558 , -1.8470587 , -4.01724488,\n",
      "       -2.12751381, -2.66899316, -1.61587306, -3.32903374, -2.14283763,\n",
      "       -2.18639668, -1.97727291, -0.6670755 , -2.0589523 , -0.68585735,\n",
      "       -1.92114051, -1.55529797, -3.11231865, -2.12253881, -1.86109328,\n",
      "       -3.21186911, -2.49625124, -1.96058338, -1.76652344, -2.29630117,\n",
      "       -2.46265808, -2.36835826, -2.09261849, -2.58634293, -1.90489071,\n",
      "       -1.50801348, -1.60064091, -2.53164479, -2.86852756, -1.9407353 ,\n",
      "       -1.15219667, -1.83603788, -1.27895583, -3.41666712, -3.62910148,\n",
      "       -1.96676181, -1.83168691, -2.50138627, -2.19488   , -3.53348124,\n",
      "       -1.48046526, -2.8692386 , -1.96385944, -1.30716592, -2.29519099,\n",
      "       -1.76899468, -3.01668348, -2.6139453 , -3.06924293, -0.54714212,\n",
      "       -1.81678039, -1.45920555, -1.97371403, -1.66462339, -2.54088759,\n",
      "       -2.24658256, -3.02609782, -2.84490824, -3.63717312, -3.25263856,\n",
      "       -2.87728924, -1.71998409, -2.68540515, -1.77117996, -4.13486062,\n",
      "       -1.9729326 , -1.19553401, -1.58748195, -3.08834267, -3.04491608,\n",
      "       -3.69881984, -2.32243856, -2.9941501 , -1.88143914, -1.99885867,\n",
      "       -2.10158433, -2.20703248, -1.63209743, -2.85357872, -1.68657337,\n",
      "       -1.20343936, -1.37908728, -2.64295099, -1.78173349, -2.28363522,\n",
      "       -2.50025191, -2.09555196, -1.39119807, -2.89165718, -2.02571939,\n",
      "       -2.8460144 , -3.46291112, -4.332491  , -1.36209193, -1.68057129,\n",
      "       -1.85398157, -3.28725578, -3.16047917, -2.17968121, -3.36217056,\n",
      "       -2.16253811, -1.95751172, -2.65144399, -2.43097103, -2.06535944,\n",
      "       -1.86813632, -2.24548536, -1.72501887, -1.93387492, -2.42238969,\n",
      "       -2.40467405, -3.44703648, -1.59488581, -3.15802771, -2.16123313,\n",
      "       -1.77905976, -3.11823069, -1.68724717, -1.99695814, -2.28005385,\n",
      "       -2.14563648, -0.51437926, -0.85021703, -3.39207801, -2.06375266,\n",
      "       -3.69888165, -2.02387674, -2.18609268, -1.54204758, -2.13297558,\n",
      "       -1.21161369, -1.56092627, -2.4222794 , -2.08540638, -1.87030699,\n",
      "       -1.45971182, -1.81600732, -1.78975835, -3.23844034, -2.5470096 ,\n",
      "       -2.07700249, -2.73797612, -1.68648987, -3.09118777, -2.68556574,\n",
      "       -1.71272012, -3.12620819, -1.93402294, -3.41021099, -2.83746056,\n",
      "       -2.28447255, -2.06458048, -1.28238147, -2.09792251, -3.00080274,\n",
      "       -2.56913842, -2.45276896, -1.5268282 , -2.49215465, -1.53689765,\n",
      "       -1.48501729, -2.3091286 , -3.50432626, -1.63079997, -3.59120205,\n",
      "       -1.63065599, -2.68946486, -2.32532492, -0.83906581, -0.88256746,\n",
      "       -3.08913293, -3.87597991, -1.11101826, -1.2009629 , -3.5521362 ,\n",
      "       -3.88329012, -2.56899438, -1.09583242, -1.94428807, -3.0780912 ,\n",
      "       -2.02679553, -1.94506831, -2.18982843, -2.766851  , -2.82686839,\n",
      "       -2.11052658, -1.0230486 , -2.36344464, -2.30398564, -3.91056024,\n",
      "       -0.83987186, -2.12371221, -2.55418872, -2.77334659, -1.19214437,\n",
      "       -4.07331712, -3.1933337 , -2.02252576, -1.99475929, -2.93247392,\n",
      "       -1.53476523, -2.63980355, -1.8618183 , -2.99238676, -1.54407063,\n",
      "       -5.70101597, -5.19770891, -6.09079261, -5.06568465, -4.46254026,\n",
      "       -4.90570704, -4.89830954, -6.04257533, -6.02001417, -4.97742922,\n",
      "       -4.88202957, -5.3798967 ]), array([-6.80890034, -6.74047571, -5.02951727, -5.67985611, -6.82802334,\n",
      "       -6.29432177, -5.99565363, -4.52854558, -4.80708354, -6.86204383,\n",
      "       -4.82310751, -4.7058733 , -6.19680774, -6.91580022, -4.22083444,\n",
      "       -6.19846395, -4.66989371, -5.48409686, -5.3457481 , -5.19378186,\n",
      "       -4.05949618, -5.64581477, -5.5523451 , -5.55894437, -6.10052154,\n",
      "       -6.66521182, -5.45501119, -4.98092201, -4.1349011 , -4.78099123,\n",
      "       -4.81242351, -4.98055307, -5.74650779, -6.80241259, -5.55979225,\n",
      "       -4.85673606, -6.74036354, -5.53104142, -5.8335854 , -4.12512923,\n",
      "       -5.99752097, -6.23516122, -4.71017663, -4.01119804, -7.29414188,\n",
      "       -5.38867613, -6.74851808, -5.89054803, -5.33240555, -6.43781034,\n",
      "       -5.70409755, -6.2495188 , -5.04970925, -5.37649371, -5.81489299,\n",
      "       -6.96867106, -6.69158903, -6.17356822, -5.7124131 , -4.44531821,\n",
      "       -6.85236965, -6.05195275, -6.27576746, -5.51709785, -5.45422007,\n",
      "       -5.83946623, -6.8020365 , -6.78016904, -5.77199902, -4.51785777,\n",
      "       -5.82818165, -5.63874502, -5.45196447, -4.72679272, -5.90450017,\n",
      "       -4.77743844, -5.24561761, -4.39791471, -5.81544991, -4.59030658,\n",
      "       -3.76232574, -6.99924561, -5.96460277, -3.45176501, -3.85125668,\n",
      "       -5.13797862, -5.34704774, -5.41769032, -5.4884672 , -4.4714172 ,\n",
      "       -7.68138562, -5.92639425, -6.88757126, -6.77361839, -5.38985408,\n",
      "       -5.05197111, -4.7337787 , -5.63303834, -5.73500768, -5.95956214,\n",
      "       -5.7525162 , -4.57614936, -5.85343022, -6.48591254, -6.20789503,\n",
      "       -5.22834589, -6.94148262, -5.22725723, -5.97748066, -7.11475195,\n",
      "       -6.89298641, -5.93688189, -5.70661635, -5.24514718, -5.74031983,\n",
      "       -5.76481008, -5.01498958, -6.44185659, -4.44354741, -5.27927381,\n",
      "       -6.70515743, -5.92595913, -6.40473942, -6.10631913, -6.5952458 ,\n",
      "       -6.64956822, -6.43348951, -6.77132472, -5.07995896, -5.47311044,\n",
      "       -4.39919782, -6.93934589, -5.92148751, -4.48052063, -5.3905626 ,\n",
      "       -7.05461661, -6.07352595, -4.91037125, -4.72305627, -6.11752365,\n",
      "       -6.29014173, -6.8770317 , -5.8725999 , -4.57829852, -7.0656265 ,\n",
      "       -5.41762994, -3.9512488 , -5.17691047, -5.97643041, -5.60664482,\n",
      "       -6.16901875, -4.44021979, -6.57759769, -4.85740447, -3.71211534,\n",
      "       -4.3406519 , -4.77051295, -4.40750206, -5.44844912, -4.76494264,\n",
      "       -6.08043659, -4.59717498, -5.74851467, -7.35183824, -6.25258467,\n",
      "       -6.36797412, -5.67333367, -5.74245764, -4.93444497, -5.1276692 ,\n",
      "       -5.15960054, -4.05034078, -4.85447477, -5.30595106, -5.94759544,\n",
      "       -5.2937993 , -4.85036744, -5.03045331, -3.93126926, -6.59589016,\n",
      "       -5.52698699, -5.43054593, -5.67219618, -6.04409819, -5.43573812,\n",
      "       -4.57005189, -5.83279894, -6.84570285, -5.21363174, -6.08815931,\n",
      "       -5.62895723, -5.77302601, -6.32677546, -4.40339992, -5.3801331 ,\n",
      "       -5.66211382, -4.66619126, -6.81314171, -5.08730094, -5.97463086,\n",
      "       -5.50879583, -5.58734443, -5.47023479, -6.17420852, -6.78841555,\n",
      "       -6.15416499, -5.54545193, -5.16506615, -5.80107148, -5.86331548,\n",
      "       -6.38971812, -5.94662782, -4.85327789, -5.63705385, -5.20150776,\n",
      "       -4.98557123, -5.96120784, -5.34312147, -4.09421783, -5.57129429,\n",
      "       -5.94757866, -6.29717031, -4.68166601, -5.64064985, -5.29697848,\n",
      "       -6.11249255, -6.10213825, -5.25904776, -5.46089959, -5.22596425,\n",
      "       -5.65369034, -5.55477426, -5.1084406 , -5.64047298, -5.51625616,\n",
      "       -4.4780598 , -5.49439703, -5.82085568, -5.76994679, -5.88682958,\n",
      "       -4.42480393, -5.23564406, -6.3637341 , -5.68007443, -5.7614926 ,\n",
      "       -4.06397517, -5.7883032 , -5.70184428, -5.06493844, -6.12123679,\n",
      "       -5.35520073, -5.90657077, -6.35343983, -5.03594976, -4.28521353,\n",
      "       -6.31702424, -5.24373134, -5.1611693 , -7.277787  , -8.33881791,\n",
      "       -8.51516977, -8.39016735, -7.90894358, -7.89225816, -7.50399491,\n",
      "       -8.19124587, -6.56737082, -8.74615286])]\n"
     ]
    },
    {
     "data": {
      "image/png": "[encoded data removed]",
      "text/plain": [
       "<Figure size 432x288 with 1 Axes>"
      ]
     },
     "metadata": {
      "needs_background": "light"
     },
     "output_type": "display_data"
    }
   ],
   "source": [
    "Data=np.loadtxt('Data1.txt')\n",
    "X = Data[:,0:2]\n",
    "t = Data[:,2]\n",
    "classifier = FisherLD(X,t)\n",
    "TestData = np.loadtxt('Test1.txt')\n",
    "X_test = np.matrix(TestData)\n",
    "f, t = classifier.project_and_classify(X)"
   ]
  },
  {
   "cell_type": "code",
   "execution_count": 3,
   "metadata": {},
   "outputs": [
    {
     "ename": "IndexError",
     "evalue": "boolean index did not match indexed array along dimension 0; dimension is 2 but corresponding boolean dimension is 150",
     "output_type": "error",
     "traceback": [
      "\u001b[0;31m---------------------------------------------------------------------------\u001b[0m",
      "\u001b[0;31mIndexError\u001b[0m                                Traceback (most recent call last)",
      "\u001b[0;32m<ipython-input-3-07202abf3359>\u001b[0m in \u001b[0;36m<module>\u001b[0;34m\u001b[0m\n\u001b[1;32m      6\u001b[0m \u001b[0mt\u001b[0m \u001b[0;34m=\u001b[0m \u001b[0miris\u001b[0m\u001b[0;34m.\u001b[0m\u001b[0mtarget\u001b[0m\u001b[0;34m\u001b[0m\u001b[0;34m\u001b[0m\u001b[0m\n\u001b[1;32m      7\u001b[0m \u001b[0mclassifier\u001b[0m \u001b[0;34m=\u001b[0m \u001b[0mFisherLD\u001b[0m\u001b[0;34m(\u001b[0m\u001b[0mX\u001b[0m\u001b[0;34m,\u001b[0m\u001b[0mt\u001b[0m\u001b[0;34m)\u001b[0m\u001b[0;34m\u001b[0m\u001b[0;34m\u001b[0m\u001b[0m\n\u001b[0;32m----> 8\u001b[0;31m \u001b[0mf\u001b[0m\u001b[0;34m,\u001b[0m \u001b[0mt\u001b[0m \u001b[0;34m=\u001b[0m \u001b[0mclassifier\u001b[0m\u001b[0;34m.\u001b[0m\u001b[0mproject_and_classify\u001b[0m\u001b[0;34m(\u001b[0m\u001b[0mX\u001b[0m\u001b[0;34m)\u001b[0m\u001b[0;34m\u001b[0m\u001b[0;34m\u001b[0m\u001b[0m\n\u001b[0m",
      "\u001b[0;32m~/Documents/NU ML/Fisher's Linear Discriminant/FisherLD.py\u001b[0m in \u001b[0;36mproject_and_classify\u001b[0;34m(self, X)\u001b[0m\n\u001b[1;32m    102\u001b[0m         \u001b[0;32mif\u001b[0m \u001b[0mself\u001b[0m\u001b[0;34m.\u001b[0m\u001b[0mrow_or_column\u001b[0m \u001b[0;34m==\u001b[0m \u001b[0;34m\"row\"\u001b[0m\u001b[0;34m:\u001b[0m\u001b[0;34m\u001b[0m\u001b[0;34m\u001b[0m\u001b[0m\n\u001b[1;32m    103\u001b[0m             \u001b[0;32mfor\u001b[0m \u001b[0mi\u001b[0m \u001b[0;32min\u001b[0m \u001b[0mself\u001b[0m\u001b[0;34m.\u001b[0m\u001b[0mclasses\u001b[0m\u001b[0;34m:\u001b[0m\u001b[0;34m\u001b[0m\u001b[0;34m\u001b[0m\u001b[0m\n\u001b[0;32m--> 104\u001b[0;31m                 \u001b[0mX_features\u001b[0m\u001b[0;34m.\u001b[0m\u001b[0mappend\u001b[0m\u001b[0;34m(\u001b[0m\u001b[0mX\u001b[0m\u001b[0;34m[\u001b[0m\u001b[0mt\u001b[0m \u001b[0;34m==\u001b[0m \u001b[0mi\u001b[0m\u001b[0;34m,\u001b[0m\u001b[0;34m:\u001b[0m\u001b[0;34m]\u001b[0m\u001b[0;34m)\u001b[0m\u001b[0;34m\u001b[0m\u001b[0;34m\u001b[0m\u001b[0m\n\u001b[0m\u001b[1;32m    105\u001b[0m         \u001b[0;32melse\u001b[0m\u001b[0;34m:\u001b[0m\u001b[0;34m\u001b[0m\u001b[0;34m\u001b[0m\u001b[0m\n\u001b[1;32m    106\u001b[0m             \u001b[0;32mfor\u001b[0m \u001b[0mi\u001b[0m \u001b[0;32min\u001b[0m \u001b[0mself\u001b[0m\u001b[0;34m.\u001b[0m\u001b[0mclasses\u001b[0m\u001b[0;34m:\u001b[0m\u001b[0;34m\u001b[0m\u001b[0;34m\u001b[0m\u001b[0m\n",
      "\u001b[0;31mIndexError\u001b[0m: boolean index did not match indexed array along dimension 0; dimension is 2 but corresponding boolean dimension is 150"
     ]
    }
   ],
   "source": [
    "from sklearn.datasets import load_iris\n",
    "import matplotlib.pyplot as plt\n",
    "iris = load_iris()\n",
    "features = iris.data.T\n",
    "X = np.vstack((features[0], features[1]))\n",
    "t = iris.target\n",
    "classifier = FisherLD(X,t)\n",
    "f, t = classifier.project_and_classify(X)"
   ]
  },
  {
   "cell_type": "code",
   "execution_count": 4,
   "metadata": {},
   "outputs": [
    {
     "ename": "NameError",
     "evalue": "name 'df' is not defined",
     "output_type": "error",
     "traceback": [
      "\u001b[0;31m---------------------------------------------------------------------------\u001b[0m",
      "\u001b[0;31mNameError\u001b[0m                                 Traceback (most recent call last)",
      "\u001b[0;32m<ipython-input-4-f42f424ef11e>\u001b[0m in \u001b[0;36m<module>\u001b[0;34m\u001b[0m\n\u001b[0;32m----> 1\u001b[0;31m \u001b[0mX\u001b[0m \u001b[0;34m=\u001b[0m \u001b[0mdf\u001b[0m\u001b[0;34m[\u001b[0m\u001b[0;34m[\u001b[0m\u001b[0;34m\"sepal length in cm\"\u001b[0m\u001b[0;34m,\u001b[0m \u001b[0;34m\"sepal width in cm\"\u001b[0m\u001b[0;34m,\u001b[0m \u001b[0;34m\"petal length in cm\"\u001b[0m\u001b[0;34m,\u001b[0m \u001b[0;34m\"petal width in cm\"\u001b[0m\u001b[0;34m]\u001b[0m\u001b[0;34m]\u001b[0m\u001b[0;34m\u001b[0m\u001b[0;34m\u001b[0m\u001b[0m\n\u001b[0m\u001b[1;32m      2\u001b[0m \u001b[0mt\u001b[0m \u001b[0;34m=\u001b[0m \u001b[0mdf\u001b[0m\u001b[0;34m[\u001b[0m\u001b[0;34m\"class label\"\u001b[0m\u001b[0;34m]\u001b[0m\u001b[0;34m\u001b[0m\u001b[0;34m\u001b[0m\u001b[0m\n\u001b[1;32m      3\u001b[0m \u001b[0;34m\u001b[0m\u001b[0m\n\u001b[1;32m      4\u001b[0m \u001b[0;32mfrom\u001b[0m \u001b[0msklearn\u001b[0m\u001b[0;34m.\u001b[0m\u001b[0mpreprocessing\u001b[0m \u001b[0;32mimport\u001b[0m \u001b[0mLabelEncoder\u001b[0m\u001b[0;34m\u001b[0m\u001b[0;34m\u001b[0m\u001b[0m\n\u001b[1;32m      5\u001b[0m \u001b[0;34m\u001b[0m\u001b[0m\n",
      "\u001b[0;31mNameError\u001b[0m: name 'df' is not defined"
     ]
    }
   ],
   "source": [
    "X = df[[\"sepal length in cm\", \"sepal width in cm\", \"petal length in cm\", \"petal width in cm\"]]\n",
    "t = df[\"class label\"]\n",
    "\n",
    "from sklearn.preprocessing import LabelEncoder\n",
    "\n",
    "enc = LabelEncoder()\n",
    "label_encoder = enc.fit(t)\n",
    "t = label_encoder.transform(t) + 1\n",
    "\n",
    "label_dict = {1: 'Setosa', 2: 'Versicolor', 3:'Virginica'}"
   ]
  },
  {
   "cell_type": "code",
   "execution_count": 5,
   "metadata": {},
   "outputs": [
    {
     "ename": "IndexError",
     "evalue": "boolean index did not match indexed array along dimension 0; dimension is 2 but corresponding boolean dimension is 150",
     "output_type": "error",
     "traceback": [
      "\u001b[0;31m---------------------------------------------------------------------------\u001b[0m",
      "\u001b[0;31mIndexError\u001b[0m                                Traceback (most recent call last)",
      "\u001b[0;32m<ipython-input-5-2d4dfd0f38b5>\u001b[0m in \u001b[0;36m<module>\u001b[0;34m\u001b[0m\n\u001b[1;32m      1\u001b[0m \u001b[0mclassifier\u001b[0m \u001b[0;34m=\u001b[0m \u001b[0mFisherLD\u001b[0m\u001b[0;34m(\u001b[0m\u001b[0mX\u001b[0m\u001b[0;34m,\u001b[0m\u001b[0mt\u001b[0m\u001b[0;34m)\u001b[0m\u001b[0;34m\u001b[0m\u001b[0;34m\u001b[0m\u001b[0m\n\u001b[0;32m----> 2\u001b[0;31m \u001b[0mf\u001b[0m\u001b[0;34m,\u001b[0m \u001b[0mt\u001b[0m \u001b[0;34m=\u001b[0m \u001b[0mclassifier\u001b[0m\u001b[0;34m.\u001b[0m\u001b[0mproject_and_classify\u001b[0m\u001b[0;34m(\u001b[0m\u001b[0mX\u001b[0m\u001b[0;34m)\u001b[0m\u001b[0;34m\u001b[0m\u001b[0;34m\u001b[0m\u001b[0m\n\u001b[0m",
      "\u001b[0;32m~/Documents/NU ML/Fisher's Linear Discriminant/FisherLD.py\u001b[0m in \u001b[0;36mproject_and_classify\u001b[0;34m(self, X)\u001b[0m\n\u001b[1;32m    102\u001b[0m         \u001b[0;32mif\u001b[0m \u001b[0mself\u001b[0m\u001b[0;34m.\u001b[0m\u001b[0mrow_or_column\u001b[0m \u001b[0;34m==\u001b[0m \u001b[0;34m\"row\"\u001b[0m\u001b[0;34m:\u001b[0m\u001b[0;34m\u001b[0m\u001b[0;34m\u001b[0m\u001b[0m\n\u001b[1;32m    103\u001b[0m             \u001b[0;32mfor\u001b[0m \u001b[0mi\u001b[0m \u001b[0;32min\u001b[0m \u001b[0mself\u001b[0m\u001b[0;34m.\u001b[0m\u001b[0mclasses\u001b[0m\u001b[0;34m:\u001b[0m\u001b[0;34m\u001b[0m\u001b[0;34m\u001b[0m\u001b[0m\n\u001b[0;32m--> 104\u001b[0;31m                 \u001b[0mX_features\u001b[0m\u001b[0;34m.\u001b[0m\u001b[0mappend\u001b[0m\u001b[0;34m(\u001b[0m\u001b[0mX\u001b[0m\u001b[0;34m[\u001b[0m\u001b[0mt\u001b[0m \u001b[0;34m==\u001b[0m \u001b[0mi\u001b[0m\u001b[0;34m,\u001b[0m\u001b[0;34m:\u001b[0m\u001b[0;34m]\u001b[0m\u001b[0;34m)\u001b[0m\u001b[0;34m\u001b[0m\u001b[0;34m\u001b[0m\u001b[0m\n\u001b[0m\u001b[1;32m    105\u001b[0m         \u001b[0;32melse\u001b[0m\u001b[0;34m:\u001b[0m\u001b[0;34m\u001b[0m\u001b[0;34m\u001b[0m\u001b[0m\n\u001b[1;32m    106\u001b[0m             \u001b[0;32mfor\u001b[0m \u001b[0mi\u001b[0m \u001b[0;32min\u001b[0m \u001b[0mself\u001b[0m\u001b[0;34m.\u001b[0m\u001b[0mclasses\u001b[0m\u001b[0;34m:\u001b[0m\u001b[0;34m\u001b[0m\u001b[0;34m\u001b[0m\u001b[0m\n",
      "\u001b[0;31mIndexError\u001b[0m: boolean index did not match indexed array along dimension 0; dimension is 2 but corresponding boolean dimension is 150"
     ]
    }
   ],
   "source": [
    "classifier = FisherLD(X,t)\n",
    "f, t = classifier.project_and_classify(X)"
   ]
  },
  {
   "cell_type": "code",
   "execution_count": 6,
   "metadata": {},
   "outputs": [
    {
     "name": "stdout",
     "output_type": "stream",
     "text": [
      "[array([], dtype=float64), array([-0.00559396, -0.00540147, -0.005639  , -0.00424635, -0.00548183,\n",
      "       -0.00513772, -0.00747526, -0.00553613, -0.00544193, -0.00454312,\n",
      "       -0.00388448, -0.00525123, -0.00552004, -0.00546775, -0.00570525,\n",
      "       -0.0057423 , -0.00584628, -0.00618656, -0.00506747, -0.00550905,\n",
      "       -0.00716612, -0.00639264, -0.0047666 , -0.00473328, -0.00493731,\n",
      "       -0.00498385, -0.00581478, -0.00495658, -0.00546995, -0.00641458,\n",
      "       -0.00450978, -0.00635924, -0.00596744, -0.00609705, -0.00732372,\n",
      "       -0.00566553, -0.00645121, -0.00563616, -0.00644912, -0.00805272,\n",
      "       -0.00507626, -0.00615058, -0.00642574, -0.00525233, -0.00614988,\n",
      "       -0.0041387 , -0.00604703, -0.00576733, -0.00523014, -0.00383836,\n",
      "       -0.00524411, -0.00576675, -0.00605559, -0.00474751, -0.00506277,\n",
      "       -0.0059678 , -0.00572608, -0.00675179,  0.00440621, -0.00530459,\n",
      "       -0.00543107, -0.00394399, -0.00572581, -0.00545579, -0.0055233 ,\n",
      "       -0.00502623, -0.00535858, -0.00544847, -0.00578721, -0.00625782,\n",
      "       -0.00752977, -0.00586355, -0.0056697 , -0.00675441, -0.00515812,\n",
      "       -0.00612105, -0.00548312, -0.00651102, -0.0057164 , -0.00529634,\n",
      "       -0.00608563, -0.00350748, -0.00630001, -0.00538646, -0.00566931,\n",
      "       -0.00539905, -0.00427528, -0.00561715, -0.00557486, -0.00534882,\n",
      "       -0.00560969, -0.00586901, -0.00578823, -0.00499683, -0.00616279,\n",
      "       -0.00511235, -0.00552546, -0.00615595, -0.00509024, -0.0061289 ,\n",
      "       -0.00507546, -0.0057358 , -0.00669396, -0.00582955, -0.00491278,\n",
      "       -0.00614832, -0.00520047, -0.00540806, -0.0071689 , -0.00660636,\n",
      "       -0.00571054, -0.00607618, -0.00593063, -0.00639843])]\n"
     ]
    },
    {
     "name": "stderr",
     "output_type": "stream",
     "text": [
      "/home/mostafakm/miniconda3/lib/python3.7/site-packages/numpy/core/fromnumeric.py:3257: RuntimeWarning: Mean of empty slice.\n",
      "  out=out, **kwargs)\n",
      "/home/mostafakm/miniconda3/lib/python3.7/site-packages/numpy/core/_methods.py:161: RuntimeWarning: invalid value encountered in double_scalars\n",
      "  ret = ret.dtype.type(ret / rcount)\n",
      "/home/mostafakm/miniconda3/lib/python3.7/site-packages/numpy/lib/function_base.py:390: RuntimeWarning: Mean of empty slice.\n",
      "  avg = a.mean(axis)\n",
      "/home/mostafakm/miniconda3/lib/python3.7/site-packages/numpy/core/_methods.py:154: RuntimeWarning: invalid value encountered in true_divide\n",
      "  ret, rcount, out=ret, casting='unsafe', subok=False)\n",
      "/home/mostafakm/Documents/NU ML/Fisher's Linear Discriminant/FisherLD.py:117: RuntimeWarning: Degrees of freedom <= 0 for slice\n",
      "  mvn_now = multivariate_normal(np.mean(y[i]),np.cov(y[i]))\n",
      "/home/mostafakm/miniconda3/lib/python3.7/site-packages/numpy/lib/function_base.py:2455: RuntimeWarning: divide by zero encountered in true_divide\n",
      "  c *= np.true_divide(1, fact)\n",
      "/home/mostafakm/miniconda3/lib/python3.7/site-packages/numpy/lib/function_base.py:2455: RuntimeWarning: invalid value encountered in multiply\n",
      "  c *= np.true_divide(1, fact)\n"
     ]
    },
    {
     "ename": "ValueError",
     "evalue": "array must not contain infs or NaNs",
     "output_type": "error",
     "traceback": [
      "\u001b[0;31m---------------------------------------------------------------------------\u001b[0m",
      "\u001b[0;31mValueError\u001b[0m                                Traceback (most recent call last)",
      "\u001b[0;32m<ipython-input-6-5a3d3ce121fd>\u001b[0m in \u001b[0;36m<module>\u001b[0;34m\u001b[0m\n\u001b[1;32m      7\u001b[0m \u001b[0mtrain_data\u001b[0m\u001b[0;34m,\u001b[0m \u001b[0mtest_data\u001b[0m\u001b[0;34m,\u001b[0m \u001b[0mtrain_lbl\u001b[0m\u001b[0;34m,\u001b[0m \u001b[0mtest_lbl\u001b[0m \u001b[0;34m=\u001b[0m \u001b[0mtrain_test_split\u001b[0m\u001b[0;34m(\u001b[0m\u001b[0mbreast_cancer_data\u001b[0m\u001b[0;34m.\u001b[0m\u001b[0mdata\u001b[0m\u001b[0;34m,\u001b[0m \u001b[0mbreast_cancer_data\u001b[0m\u001b[0;34m.\u001b[0m\u001b[0mtarget\u001b[0m\u001b[0;34m,\u001b[0m \u001b[0mtest_size\u001b[0m \u001b[0;34m=\u001b[0m \u001b[0;36m0.2\u001b[0m\u001b[0;34m,\u001b[0m \u001b[0mrandom_state\u001b[0m \u001b[0;34m=\u001b[0m \u001b[0;36m100\u001b[0m\u001b[0;34m)\u001b[0m\u001b[0;34m\u001b[0m\u001b[0;34m\u001b[0m\u001b[0m\n\u001b[1;32m      8\u001b[0m \u001b[0mclassifier\u001b[0m \u001b[0;34m=\u001b[0m \u001b[0mFisherLD\u001b[0m\u001b[0;34m(\u001b[0m\u001b[0mtrain_data\u001b[0m\u001b[0;34m,\u001b[0m\u001b[0mtrain_lbl\u001b[0m\u001b[0;34m)\u001b[0m\u001b[0;34m\u001b[0m\u001b[0;34m\u001b[0m\u001b[0m\n\u001b[0;32m----> 9\u001b[0;31m \u001b[0mf\u001b[0m\u001b[0;34m,\u001b[0m \u001b[0mt\u001b[0m \u001b[0;34m=\u001b[0m \u001b[0mclassifier\u001b[0m\u001b[0;34m.\u001b[0m\u001b[0mproject_and_classify\u001b[0m\u001b[0;34m(\u001b[0m\u001b[0mtest_data\u001b[0m\u001b[0;34m)\u001b[0m\u001b[0;34m\u001b[0m\u001b[0;34m\u001b[0m\u001b[0m\n\u001b[0m\u001b[1;32m     10\u001b[0m \u001b[0mtest_lbl\u001b[0m\u001b[0;34m\u001b[0m\u001b[0;34m\u001b[0m\u001b[0m\n",
      "\u001b[0;32m~/Documents/NU ML/Fisher's Linear Discriminant/FisherLD.py\u001b[0m in \u001b[0;36mproject_and_classify\u001b[0;34m(self, X)\u001b[0m\n\u001b[1;32m    115\u001b[0m         \u001b[0mf\u001b[0m\u001b[0;34m,\u001b[0m \u001b[0maxes\u001b[0m \u001b[0;34m=\u001b[0m \u001b[0mplt\u001b[0m\u001b[0;34m.\u001b[0m\u001b[0msubplots\u001b[0m\u001b[0;34m(\u001b[0m\u001b[0;36m1\u001b[0m\u001b[0;34m,\u001b[0m \u001b[0;36m1\u001b[0m\u001b[0;34m)\u001b[0m\u001b[0;34m\u001b[0m\u001b[0;34m\u001b[0m\u001b[0m\n\u001b[1;32m    116\u001b[0m         \u001b[0;32mfor\u001b[0m \u001b[0mi\u001b[0m \u001b[0;32min\u001b[0m \u001b[0mrange\u001b[0m\u001b[0;34m(\u001b[0m\u001b[0mlen\u001b[0m\u001b[0;34m(\u001b[0m\u001b[0mself\u001b[0m\u001b[0;34m.\u001b[0m\u001b[0mclasses\u001b[0m\u001b[0;34m)\u001b[0m\u001b[0;34m)\u001b[0m\u001b[0;34m:\u001b[0m\u001b[0;34m\u001b[0m\u001b[0;34m\u001b[0m\u001b[0m\n\u001b[0;32m--> 117\u001b[0;31m             \u001b[0mmvn_now\u001b[0m \u001b[0;34m=\u001b[0m \u001b[0mmultivariate_normal\u001b[0m\u001b[0;34m(\u001b[0m\u001b[0mnp\u001b[0m\u001b[0;34m.\u001b[0m\u001b[0mmean\u001b[0m\u001b[0;34m(\u001b[0m\u001b[0my\u001b[0m\u001b[0;34m[\u001b[0m\u001b[0mi\u001b[0m\u001b[0;34m]\u001b[0m\u001b[0;34m)\u001b[0m\u001b[0;34m,\u001b[0m\u001b[0mnp\u001b[0m\u001b[0;34m.\u001b[0m\u001b[0mcov\u001b[0m\u001b[0;34m(\u001b[0m\u001b[0my\u001b[0m\u001b[0;34m[\u001b[0m\u001b[0mi\u001b[0m\u001b[0;34m]\u001b[0m\u001b[0;34m)\u001b[0m\u001b[0;34m)\u001b[0m\u001b[0;34m\u001b[0m\u001b[0;34m\u001b[0m\u001b[0m\n\u001b[0m\u001b[1;32m    118\u001b[0m             \u001b[0mp\u001b[0m\u001b[0;34m.\u001b[0m\u001b[0mappend\u001b[0m\u001b[0;34m(\u001b[0m\u001b[0mmvn_now\u001b[0m\u001b[0;34m.\u001b[0m\u001b[0mpdf\u001b[0m\u001b[0;34m(\u001b[0m\u001b[0my\u001b[0m\u001b[0;34m[\u001b[0m\u001b[0mi\u001b[0m\u001b[0;34m]\u001b[0m\u001b[0;34m)\u001b[0m\u001b[0;34m)\u001b[0m\u001b[0;34m\u001b[0m\u001b[0;34m\u001b[0m\u001b[0m\n\u001b[1;32m    119\u001b[0m             \u001b[0msns\u001b[0m\u001b[0;34m.\u001b[0m\u001b[0mlineplot\u001b[0m\u001b[0;34m(\u001b[0m\u001b[0my\u001b[0m\u001b[0;34m[\u001b[0m\u001b[0mi\u001b[0m\u001b[0;34m]\u001b[0m\u001b[0;34m,\u001b[0m \u001b[0mp\u001b[0m\u001b[0;34m[\u001b[0m\u001b[0mi\u001b[0m\u001b[0;34m]\u001b[0m\u001b[0;34m,\u001b[0m \u001b[0max\u001b[0m\u001b[0;34m=\u001b[0m\u001b[0maxes\u001b[0m\u001b[0;34m)\u001b[0m\u001b[0;34m\u001b[0m\u001b[0;34m\u001b[0m\u001b[0m\n",
      "\u001b[0;32m~/miniconda3/lib/python3.7/site-packages/scipy/stats/_multivariate.py\u001b[0m in \u001b[0;36m__call__\u001b[0;34m(self, mean, cov, allow_singular, seed)\u001b[0m\n\u001b[1;32m    361\u001b[0m         return multivariate_normal_frozen(mean, cov,\n\u001b[1;32m    362\u001b[0m                                           \u001b[0mallow_singular\u001b[0m\u001b[0;34m=\u001b[0m\u001b[0mallow_singular\u001b[0m\u001b[0;34m,\u001b[0m\u001b[0;34m\u001b[0m\u001b[0;34m\u001b[0m\u001b[0m\n\u001b[0;32m--> 363\u001b[0;31m                                           seed=seed)\n\u001b[0m\u001b[1;32m    364\u001b[0m \u001b[0;34m\u001b[0m\u001b[0m\n\u001b[1;32m    365\u001b[0m     \u001b[0;32mdef\u001b[0m \u001b[0m_process_parameters\u001b[0m\u001b[0;34m(\u001b[0m\u001b[0mself\u001b[0m\u001b[0;34m,\u001b[0m \u001b[0mdim\u001b[0m\u001b[0;34m,\u001b[0m \u001b[0mmean\u001b[0m\u001b[0;34m,\u001b[0m \u001b[0mcov\u001b[0m\u001b[0;34m)\u001b[0m\u001b[0;34m:\u001b[0m\u001b[0;34m\u001b[0m\u001b[0;34m\u001b[0m\u001b[0m\n",
      "\u001b[0;32m~/miniconda3/lib/python3.7/site-packages/scipy/stats/_multivariate.py\u001b[0m in \u001b[0;36m__init__\u001b[0;34m(self, mean, cov, allow_singular, seed, maxpts, abseps, releps)\u001b[0m\n\u001b[1;32m    734\u001b[0m         self.dim, self.mean, self.cov = self._dist._process_parameters(\n\u001b[1;32m    735\u001b[0m                                                             None, mean, cov)\n\u001b[0;32m--> 736\u001b[0;31m         \u001b[0mself\u001b[0m\u001b[0;34m.\u001b[0m\u001b[0mcov_info\u001b[0m \u001b[0;34m=\u001b[0m \u001b[0m_PSD\u001b[0m\u001b[0;34m(\u001b[0m\u001b[0mself\u001b[0m\u001b[0;34m.\u001b[0m\u001b[0mcov\u001b[0m\u001b[0;34m,\u001b[0m \u001b[0mallow_singular\u001b[0m\u001b[0;34m=\u001b[0m\u001b[0mallow_singular\u001b[0m\u001b[0;34m)\u001b[0m\u001b[0;34m\u001b[0m\u001b[0;34m\u001b[0m\u001b[0m\n\u001b[0m\u001b[1;32m    737\u001b[0m         \u001b[0;32mif\u001b[0m \u001b[0;32mnot\u001b[0m \u001b[0mmaxpts\u001b[0m\u001b[0;34m:\u001b[0m\u001b[0;34m\u001b[0m\u001b[0;34m\u001b[0m\u001b[0m\n\u001b[1;32m    738\u001b[0m             \u001b[0mmaxpts\u001b[0m \u001b[0;34m=\u001b[0m \u001b[0;36m1000000\u001b[0m \u001b[0;34m*\u001b[0m \u001b[0mself\u001b[0m\u001b[0;34m.\u001b[0m\u001b[0mdim\u001b[0m\u001b[0;34m\u001b[0m\u001b[0;34m\u001b[0m\u001b[0m\n",
      "\u001b[0;32m~/miniconda3/lib/python3.7/site-packages/scipy/stats/_multivariate.py\u001b[0m in \u001b[0;36m__init__\u001b[0;34m(self, M, cond, rcond, lower, check_finite, allow_singular)\u001b[0m\n\u001b[1;32m    154\u001b[0m         \u001b[0;31m# Note that eigh takes care of array conversion, chkfinite,\u001b[0m\u001b[0;34m\u001b[0m\u001b[0;34m\u001b[0m\u001b[0;34m\u001b[0m\u001b[0m\n\u001b[1;32m    155\u001b[0m         \u001b[0;31m# and assertion that the matrix is square.\u001b[0m\u001b[0;34m\u001b[0m\u001b[0;34m\u001b[0m\u001b[0;34m\u001b[0m\u001b[0m\n\u001b[0;32m--> 156\u001b[0;31m         \u001b[0ms\u001b[0m\u001b[0;34m,\u001b[0m \u001b[0mu\u001b[0m \u001b[0;34m=\u001b[0m \u001b[0mscipy\u001b[0m\u001b[0;34m.\u001b[0m\u001b[0mlinalg\u001b[0m\u001b[0;34m.\u001b[0m\u001b[0meigh\u001b[0m\u001b[0;34m(\u001b[0m\u001b[0mM\u001b[0m\u001b[0;34m,\u001b[0m \u001b[0mlower\u001b[0m\u001b[0;34m=\u001b[0m\u001b[0mlower\u001b[0m\u001b[0;34m,\u001b[0m \u001b[0mcheck_finite\u001b[0m\u001b[0;34m=\u001b[0m\u001b[0mcheck_finite\u001b[0m\u001b[0;34m)\u001b[0m\u001b[0;34m\u001b[0m\u001b[0;34m\u001b[0m\u001b[0m\n\u001b[0m\u001b[1;32m    157\u001b[0m \u001b[0;34m\u001b[0m\u001b[0m\n\u001b[1;32m    158\u001b[0m         \u001b[0meps\u001b[0m \u001b[0;34m=\u001b[0m \u001b[0m_eigvalsh_to_eps\u001b[0m\u001b[0;34m(\u001b[0m\u001b[0ms\u001b[0m\u001b[0;34m,\u001b[0m \u001b[0mcond\u001b[0m\u001b[0;34m,\u001b[0m \u001b[0mrcond\u001b[0m\u001b[0;34m)\u001b[0m\u001b[0;34m\u001b[0m\u001b[0;34m\u001b[0m\u001b[0m\n",
      "\u001b[0;32m~/miniconda3/lib/python3.7/site-packages/scipy/linalg/decomp.py\u001b[0m in \u001b[0;36meigh\u001b[0;34m(a, b, lower, eigvals_only, overwrite_a, overwrite_b, turbo, eigvals, type, check_finite)\u001b[0m\n\u001b[1;32m    372\u001b[0m \u001b[0;34m\u001b[0m\u001b[0m\n\u001b[1;32m    373\u001b[0m     \"\"\"\n\u001b[0;32m--> 374\u001b[0;31m     \u001b[0ma1\u001b[0m \u001b[0;34m=\u001b[0m \u001b[0m_asarray_validated\u001b[0m\u001b[0;34m(\u001b[0m\u001b[0ma\u001b[0m\u001b[0;34m,\u001b[0m \u001b[0mcheck_finite\u001b[0m\u001b[0;34m=\u001b[0m\u001b[0mcheck_finite\u001b[0m\u001b[0;34m)\u001b[0m\u001b[0;34m\u001b[0m\u001b[0;34m\u001b[0m\u001b[0m\n\u001b[0m\u001b[1;32m    375\u001b[0m     \u001b[0;32mif\u001b[0m \u001b[0mlen\u001b[0m\u001b[0;34m(\u001b[0m\u001b[0ma1\u001b[0m\u001b[0;34m.\u001b[0m\u001b[0mshape\u001b[0m\u001b[0;34m)\u001b[0m \u001b[0;34m!=\u001b[0m \u001b[0;36m2\u001b[0m \u001b[0;32mor\u001b[0m \u001b[0ma1\u001b[0m\u001b[0;34m.\u001b[0m\u001b[0mshape\u001b[0m\u001b[0;34m[\u001b[0m\u001b[0;36m0\u001b[0m\u001b[0;34m]\u001b[0m \u001b[0;34m!=\u001b[0m \u001b[0ma1\u001b[0m\u001b[0;34m.\u001b[0m\u001b[0mshape\u001b[0m\u001b[0;34m[\u001b[0m\u001b[0;36m1\u001b[0m\u001b[0;34m]\u001b[0m\u001b[0;34m:\u001b[0m\u001b[0;34m\u001b[0m\u001b[0;34m\u001b[0m\u001b[0m\n\u001b[1;32m    376\u001b[0m         \u001b[0;32mraise\u001b[0m \u001b[0mValueError\u001b[0m\u001b[0;34m(\u001b[0m\u001b[0;34m'expected square matrix'\u001b[0m\u001b[0;34m)\u001b[0m\u001b[0;34m\u001b[0m\u001b[0;34m\u001b[0m\u001b[0m\n",
      "\u001b[0;32m~/miniconda3/lib/python3.7/site-packages/scipy/_lib/_util.py\u001b[0m in \u001b[0;36m_asarray_validated\u001b[0;34m(a, check_finite, sparse_ok, objects_ok, mask_ok, as_inexact)\u001b[0m\n\u001b[1;32m    237\u001b[0m             \u001b[0;32mraise\u001b[0m \u001b[0mValueError\u001b[0m\u001b[0;34m(\u001b[0m\u001b[0;34m'masked arrays are not supported'\u001b[0m\u001b[0;34m)\u001b[0m\u001b[0;34m\u001b[0m\u001b[0;34m\u001b[0m\u001b[0m\n\u001b[1;32m    238\u001b[0m     \u001b[0mtoarray\u001b[0m \u001b[0;34m=\u001b[0m \u001b[0mnp\u001b[0m\u001b[0;34m.\u001b[0m\u001b[0masarray_chkfinite\u001b[0m \u001b[0;32mif\u001b[0m \u001b[0mcheck_finite\u001b[0m \u001b[0;32melse\u001b[0m \u001b[0mnp\u001b[0m\u001b[0;34m.\u001b[0m\u001b[0masarray\u001b[0m\u001b[0;34m\u001b[0m\u001b[0;34m\u001b[0m\u001b[0m\n\u001b[0;32m--> 239\u001b[0;31m     \u001b[0ma\u001b[0m \u001b[0;34m=\u001b[0m \u001b[0mtoarray\u001b[0m\u001b[0;34m(\u001b[0m\u001b[0ma\u001b[0m\u001b[0;34m)\u001b[0m\u001b[0;34m\u001b[0m\u001b[0;34m\u001b[0m\u001b[0m\n\u001b[0m\u001b[1;32m    240\u001b[0m     \u001b[0;32mif\u001b[0m \u001b[0;32mnot\u001b[0m \u001b[0mobjects_ok\u001b[0m\u001b[0;34m:\u001b[0m\u001b[0;34m\u001b[0m\u001b[0;34m\u001b[0m\u001b[0m\n\u001b[1;32m    241\u001b[0m         \u001b[0;32mif\u001b[0m \u001b[0ma\u001b[0m\u001b[0;34m.\u001b[0m\u001b[0mdtype\u001b[0m \u001b[0;32mis\u001b[0m \u001b[0mnp\u001b[0m\u001b[0;34m.\u001b[0m\u001b[0mdtype\u001b[0m\u001b[0;34m(\u001b[0m\u001b[0;34m'O'\u001b[0m\u001b[0;34m)\u001b[0m\u001b[0;34m:\u001b[0m\u001b[0;34m\u001b[0m\u001b[0;34m\u001b[0m\u001b[0m\n",
      "\u001b[0;32m~/miniconda3/lib/python3.7/site-packages/numpy/lib/function_base.py\u001b[0m in \u001b[0;36masarray_chkfinite\u001b[0;34m(a, dtype, order)\u001b[0m\n\u001b[1;32m    494\u001b[0m     \u001b[0;32mif\u001b[0m \u001b[0ma\u001b[0m\u001b[0;34m.\u001b[0m\u001b[0mdtype\u001b[0m\u001b[0;34m.\u001b[0m\u001b[0mchar\u001b[0m \u001b[0;32min\u001b[0m \u001b[0mtypecodes\u001b[0m\u001b[0;34m[\u001b[0m\u001b[0;34m'AllFloat'\u001b[0m\u001b[0;34m]\u001b[0m \u001b[0;32mand\u001b[0m \u001b[0;32mnot\u001b[0m \u001b[0mnp\u001b[0m\u001b[0;34m.\u001b[0m\u001b[0misfinite\u001b[0m\u001b[0;34m(\u001b[0m\u001b[0ma\u001b[0m\u001b[0;34m)\u001b[0m\u001b[0;34m.\u001b[0m\u001b[0mall\u001b[0m\u001b[0;34m(\u001b[0m\u001b[0;34m)\u001b[0m\u001b[0;34m:\u001b[0m\u001b[0;34m\u001b[0m\u001b[0;34m\u001b[0m\u001b[0m\n\u001b[1;32m    495\u001b[0m         raise ValueError(\n\u001b[0;32m--> 496\u001b[0;31m             \"array must not contain infs or NaNs\")\n\u001b[0m\u001b[1;32m    497\u001b[0m     \u001b[0;32mreturn\u001b[0m \u001b[0ma\u001b[0m\u001b[0;34m\u001b[0m\u001b[0;34m\u001b[0m\u001b[0m\n\u001b[1;32m    498\u001b[0m \u001b[0;34m\u001b[0m\u001b[0m\n",
      "\u001b[0;31mValueError\u001b[0m: array must not contain infs or NaNs"
     ]
    },
    {
     "data": {
      "image/png": "[encoded data removed]",
      "text/plain": [
       "<Figure size 432x288 with 1 Axes>"
      ]
     },
     "metadata": {
      "needs_background": "light"
     },
     "output_type": "display_data"
    }
   ],
   "source": [
    "from sklearn.datasets import load_breast_cancer\n",
    "from sklearn.model_selection import train_test_split\n",
    "\n",
    "\n",
    "breast_cancer_data = load_breast_cancer()\n",
    "\n",
    "train_data, test_data, train_lbl, test_lbl = train_test_split(breast_cancer_data.data, breast_cancer_data.target, test_size = 0.2, random_state = 100)\n",
    "classifier = FisherLD(train_data,train_lbl)\n",
    "f, t = classifier.project_and_classify(test_data)\n",
    "test_lbl"
   ]
  }
 ],
 "metadata": {
  "kernelspec": {
   "display_name": "Python 3",
   "language": "python",
   "name": "python3"
  },
  "language_info": {
   "codemirror_mode": {
    "name": "ipython",
    "version": 3
   },
   "file_extension": ".py",
   "mimetype": "text/x-python",
   "name": "python",
   "nbconvert_exporter": "python",
   "pygments_lexer": "ipython3",
   "version": "3.7.4"
  }
 },
 "nbformat": 4,
 "nbformat_minor": 2
}
